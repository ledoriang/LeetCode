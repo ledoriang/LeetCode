{
 "cells": [
  {
   "cell_type": "code",
   "execution_count": 2,
   "metadata": {},
   "outputs": [],
   "source": [
    "strs = [\"flower\",\"flow\",\"flight\"]"
   ]
  },
  {
   "cell_type": "code",
   "execution_count": 9,
   "metadata": {},
   "outputs": [],
   "source": [
    "strs = [\"dog\",\"racecar\",\"car\"]"
   ]
  },
  {
   "cell_type": "code",
   "execution_count": 25,
   "metadata": {},
   "outputs": [],
   "source": [
    "strs =[\"ab\", \"a\"]"
   ]
  },
  {
   "cell_type": "code",
   "execution_count": 44,
   "metadata": {},
   "outputs": [],
   "source": [
    "strs =[\"aaa\",\"aa\",\"aaa\"]"
   ]
  },
  {
   "cell_type": "code",
   "execution_count": 47,
   "metadata": {},
   "outputs": [],
   "source": [
    "class Solution(object):\n",
    "    def longestCommonPrefix(self, strs):\n",
    "        \"\"\"\n",
    "        :type strs: List[str]\n",
    "        :rtype: str\n",
    "        \"\"\"\n",
    "\n",
    "        common_prefix = strs[0]\n",
    "        for arr_pos in range(1,len(strs)):\n",
    "            if(len(common_prefix) == 0):\n",
    "                break\n",
    "            for i,char in enumerate(strs[arr_pos]):\n",
    "                if char != common_prefix[i]:\n",
    "                    common_prefix = common_prefix[::i]\n",
    "                    break\n",
    "                if(i == len(strs[arr_pos])-1) and (len(common_prefix) > len(strs[arr_pos])):\n",
    "                    common_prefix = strs[arr_pos][::-1]\n",
    "                    break\n",
    "        return common_prefix\n",
    "        "
   ]
  },
  {
   "cell_type": "code",
   "execution_count": 48,
   "metadata": {},
   "outputs": [
    {
     "ename": "IndexError",
     "evalue": "string index out of range",
     "output_type": "error",
     "traceback": [
      "\u001b[1;31m---------------------------------------------------------------------------\u001b[0m",
      "\u001b[1;31mIndexError\u001b[0m                                Traceback (most recent call last)",
      "\u001b[1;32mc:\\Users\\gusta\\Documents\\GitHub\\leets\\problems\\14_longest_common_prefix.ipynb Cell 6'\u001b[0m in \u001b[0;36m<module>\u001b[1;34m\u001b[0m\n\u001b[0;32m      <a href='vscode-notebook-cell:/c%3A/Users/gusta/Documents/GitHub/leets/problems/14_longest_common_prefix.ipynb#ch0000004?line=0'>1</a>\u001b[0m sol \u001b[39m=\u001b[39m Solution()\n\u001b[1;32m----> <a href='vscode-notebook-cell:/c%3A/Users/gusta/Documents/GitHub/leets/problems/14_longest_common_prefix.ipynb#ch0000004?line=1'>2</a>\u001b[0m sol\u001b[39m.\u001b[39;49mlongestCommonPrefix(strs)\n",
      "\u001b[1;32mc:\\Users\\gusta\\Documents\\GitHub\\leets\\problems\\14_longest_common_prefix.ipynb Cell 5'\u001b[0m in \u001b[0;36mSolution.longestCommonPrefix\u001b[1;34m(self, strs)\u001b[0m\n\u001b[0;32m     <a href='vscode-notebook-cell:/c%3A/Users/gusta/Documents/GitHub/leets/problems/14_longest_common_prefix.ipynb#ch0000003?line=10'>11</a>\u001b[0m     \u001b[39mbreak\u001b[39;00m\n\u001b[0;32m     <a href='vscode-notebook-cell:/c%3A/Users/gusta/Documents/GitHub/leets/problems/14_longest_common_prefix.ipynb#ch0000003?line=11'>12</a>\u001b[0m \u001b[39mfor\u001b[39;00m i,char \u001b[39min\u001b[39;00m \u001b[39menumerate\u001b[39m(strs[arr_pos]):\n\u001b[1;32m---> <a href='vscode-notebook-cell:/c%3A/Users/gusta/Documents/GitHub/leets/problems/14_longest_common_prefix.ipynb#ch0000003?line=12'>13</a>\u001b[0m     \u001b[39mif\u001b[39;00m char \u001b[39m!=\u001b[39m common_prefix[i]:\n\u001b[0;32m     <a href='vscode-notebook-cell:/c%3A/Users/gusta/Documents/GitHub/leets/problems/14_longest_common_prefix.ipynb#ch0000003?line=13'>14</a>\u001b[0m         common_prefix \u001b[39m=\u001b[39m common_prefix[::i]\n\u001b[0;32m     <a href='vscode-notebook-cell:/c%3A/Users/gusta/Documents/GitHub/leets/problems/14_longest_common_prefix.ipynb#ch0000003?line=14'>15</a>\u001b[0m         \u001b[39mbreak\u001b[39;00m\n",
      "\u001b[1;31mIndexError\u001b[0m: string index out of range"
     ]
    }
   ],
   "source": [
    "sol = Solution()\n",
    "sol.longestCommonPrefix(strs)"
   ]
  },
  {
   "cell_type": "code",
   "execution_count": 42,
   "metadata": {},
   "outputs": [],
   "source": [
    "s = \"aa\""
   ]
  },
  {
   "cell_type": "code",
   "execution_count": 43,
   "metadata": {},
   "outputs": [
    {
     "data": {
      "text/plain": [
       "'aa'"
      ]
     },
     "execution_count": 43,
     "metadata": {},
     "output_type": "execute_result"
    }
   ],
   "source": [
    "s[::-1]"
   ]
  },
  {
   "cell_type": "code",
   "execution_count": null,
   "metadata": {},
   "outputs": [],
   "source": []
  }
 ],
 "metadata": {
  "interpreter": {
   "hash": "2be5faf79681da6f2a61fdfdd5405d65d042280f7fba6178067603e3a2925119"
  },
  "kernelspec": {
   "display_name": "Python 3.10.2 64-bit",
   "language": "python",
   "name": "python3"
  },
  "language_info": {
   "codemirror_mode": {
    "name": "ipython",
    "version": 3
   },
   "file_extension": ".py",
   "mimetype": "text/x-python",
   "name": "python",
   "nbconvert_exporter": "python",
   "pygments_lexer": "ipython3",
   "version": "3.10.2"
  },
  "orig_nbformat": 4
 },
 "nbformat": 4,
 "nbformat_minor": 2
}
