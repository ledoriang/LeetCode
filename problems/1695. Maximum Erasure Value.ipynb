{
 "cells": [
  {
   "cell_type": "markdown",
   "metadata": {},
   "source": [
    "Input"
   ]
  },
  {
   "cell_type": "markdown",
   "metadata": {},
   "source": [
    "Class definition"
   ]
  },
  {
   "cell_type": "code",
   "execution_count": 41,
   "metadata": {},
   "outputs": [],
   "source": [
    "nums = [4,2,4,5,6]"
   ]
  },
  {
   "cell_type": "code",
   "execution_count": 31,
   "metadata": {},
   "outputs": [],
   "source": [
    "\"\"\"\n",
    "Runtime complexity = O(n)\n",
    "\n",
    "First attempt\n",
    "\"\"\"\n",
    "class Solution:\n",
    "    def maximumUniqueSubarray(self, nums: list[int]) -> int:\n",
    "        max_sum = 0\n",
    "        sub_arr = []\n",
    "        len_num = len(nums)\n",
    "        i = 0 \n",
    "        while i  < len_num:\n",
    "            if(nums[i] not in sub_arr):\n",
    "                sub_arr.append(nums[i])\n",
    "                i += 1\n",
    "            else:\n",
    "                sub_arr = []\n",
    "                i += -1\n",
    "            temp_sum = sum(sub_arr)\n",
    "            if(temp_sum > max_sum):\n",
    "                max_sum = temp_sum\n",
    "            \n",
    "        return max_sum\n"
   ]
  },
  {
   "cell_type": "code",
   "execution_count": 38,
   "metadata": {},
   "outputs": [],
   "source": [
    "\"\"\"\n",
    "Runtime complexity = O(n)\n",
    "\"\"\"\n",
    "class Solution:\n",
    "    def maximumUniqueSubarray(self, nums: list[int]) -> int:\n",
    "        nums_len = len(nums)\n",
    "        s = set()\n",
    "        begin =0 \n",
    "        end = 0\n",
    "        sumEle = 0\n",
    "        output = 0\n",
    "        while end < nums_len:\n",
    "            if (nums[end] not in s):\n",
    "                s.add(nums[end])\n",
    "                sumEle += nums[end]\n",
    "                output = max(sumEle,output)\n",
    "                end += 1\n",
    "            else:\n",
    "                s.remove(nums[begin])\n",
    "                sumEle -= nums[begin]\n",
    "                begin += 1\n",
    "            print(s)\n",
    "        return output\n"
   ]
  },
  {
   "cell_type": "code",
   "execution_count": 39,
   "metadata": {},
   "outputs": [],
   "source": [
    "nums = [5,2,1,2,5,2,1,2,5]"
   ]
  },
  {
   "cell_type": "markdown",
   "metadata": {},
   "source": [
    "Output"
   ]
  },
  {
   "cell_type": "code",
   "execution_count": 42,
   "metadata": {},
   "outputs": [
    {
     "name": "stdout",
     "output_type": "stream",
     "text": [
      "{4}\n",
      "{2, 4}\n",
      "{2}\n",
      "{2, 4}\n",
      "{2, 4, 5}\n",
      "{2, 4, 5, 6}\n"
     ]
    },
    {
     "data": {
      "text/plain": [
       "17"
      ]
     },
     "execution_count": 42,
     "metadata": {},
     "output_type": "execute_result"
    }
   ],
   "source": [
    "sol = Solution()\n",
    "sol.maximumUniqueSubarray(nums=nums)"
   ]
  },
  {
   "cell_type": "code",
   "execution_count": 58,
   "metadata": {},
   "outputs": [
    {
     "data": {
      "text/plain": [
       "[0, 1, 2, 3, 4, 2, 2, 3, 3, 4]"
      ]
     },
     "execution_count": 58,
     "metadata": {},
     "output_type": "execute_result"
    }
   ],
   "source": [
    "nums"
   ]
  },
  {
   "cell_type": "code",
   "execution_count": null,
   "metadata": {},
   "outputs": [],
   "source": []
  }
 ],
 "metadata": {
  "interpreter": {
   "hash": "ffaacc34f039b9b01b2b6187bff0b4721953aa80c9f85ab6dca6196384076cac"
  },
  "kernelspec": {
   "display_name": "Python 3.10.2 ('venv': venv)",
   "language": "python",
   "name": "python3"
  },
  "language_info": {
   "codemirror_mode": {
    "name": "ipython",
    "version": 3
   },
   "file_extension": ".py",
   "mimetype": "text/x-python",
   "name": "python",
   "nbconvert_exporter": "python",
   "pygments_lexer": "ipython3",
   "version": "3.10.2"
  },
  "orig_nbformat": 4
 },
 "nbformat": 4,
 "nbformat_minor": 2
}
