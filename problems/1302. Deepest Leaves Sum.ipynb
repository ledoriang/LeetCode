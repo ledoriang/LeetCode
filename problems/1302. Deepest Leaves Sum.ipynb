{
 "cells": [
  {
   "cell_type": "markdown",
   "metadata": {},
   "source": [
    "Input"
   ]
  },
  {
   "cell_type": "code",
   "execution_count": 22,
   "metadata": {},
   "outputs": [],
   "source": [
    "root = [1,2,3,4,5,None,6,7,None,None,None,None,8]"
   ]
  },
  {
   "cell_type": "code",
   "execution_count": 25,
   "metadata": {},
   "outputs": [
    {
     "name": "stdout",
     "output_type": "stream",
     "text": [
      "2\n",
      "3\n",
      "4\n",
      "5\n",
      "None\n",
      "6\n",
      "7\n",
      "None\n",
      "None\n",
      "None\n",
      "None\n",
      "8\n",
      "END\n"
     ]
    }
   ],
   "source": [
    "def createTree(root):\n",
    "    if root[0] == None:\n",
    "        return None\n",
    "    else:\n",
    "        for i in range(\n",
    "            len(root)):\n",
    "            # print(i)\n",
    "            print(root[i])\n",
    "    return \"END\"\n",
    "\n",
    "\n",
    "print(createTree(root=root))\n",
    "    "
   ]
  },
  {
   "cell_type": "code",
   "execution_count": 19,
   "metadata": {},
   "outputs": [],
   "source": [
    "# Definition for a binary tree node.\n",
    "class TreeNode:\n",
    "    def __init__(self, val=0, left=None, right=None):\n",
    "        self.val = val\n",
    "        self.left = left\n",
    "        self.right = right\n",
    "\n",
    "class Tree:\n",
    "    def createTree(nodeList):\n",
    "        root = TreeNode(nodeList[0])\n",
    "        nodeList.pop(0)\n",
    "        queue = [root]\n",
    "        while nodeList:\n",
    "            node = queue.pop(0)\n",
    "            if nodeList[0] is not None:\n",
    "                node.left = TreeNode(nodeList[0])\n",
    "                queue.append(node.left)\n",
    "            nodeList.pop(0)\n",
    "            if nodeList[0] is not None:\n",
    "                node.right = TreeNode(nodeList[0])\n",
    "                queue.append(node.right)\n",
    "            nodeList.pop(0)\n",
    "        return root\n",
    "\n",
    "tree = Tree.createTree(root)\n",
    "# tree.val"
   ]
  },
  {
   "cell_type": "code",
   "execution_count": null,
   "metadata": {},
   "outputs": [],
   "source": [
    "TreeNode{val: 1, left: TreeNode{val: 2, left: TreeNode{val: 4, left: TreeNode{val: 7, left: None, right: None}, right: None}, right: TreeNode{val: 5, left: None, right: None}}, right: TreeNode{val: 3, left: None, right: TreeNode{val: 6, left: None, right: TreeNode{val: 8, left: None, right: None}}}}\n"
   ]
  },
  {
   "cell_type": "markdown",
   "metadata": {},
   "source": [
    "Class definition"
   ]
  },
  {
   "cell_type": "code",
   "execution_count": 3,
   "metadata": {},
   "outputs": [],
   "source": [
    "\n",
    "\n",
    "class Solution:\n",
    "    def deepestLeavesSum(self, root: list[TreeNode]) -> int:\n",
    "        if root == None:\n",
    "            return 0\n",
    "        if root.left == None and root.right == None:\n",
    "            return root.val\n",
    "        return self.deepestLeavesSum(root.left) + self.deepestLeavesSum(root.right)\n",
    "\n",
    "        \n",
    "\n",
    "        \n",
    "        "
   ]
  },
  {
   "cell_type": "markdown",
   "metadata": {},
   "source": [
    "Output"
   ]
  },
  {
   "cell_type": "code",
   "execution_count": 4,
   "metadata": {},
   "outputs": [
    {
     "ename": "AttributeError",
     "evalue": "'list' object has no attribute 'left'",
     "output_type": "error",
     "traceback": [
      "\u001b[1;31m---------------------------------------------------------------------------\u001b[0m",
      "\u001b[1;31mAttributeError\u001b[0m                            Traceback (most recent call last)",
      "\u001b[1;32mc:\\Users\\gusta\\Documents\\GitHub\\LeetCode\\problems\\1302. Deepest Leaves Sum.ipynb Cell 6\u001b[0m in \u001b[0;36m<module>\u001b[1;34m\u001b[0m\n\u001b[0;32m      <a href='vscode-notebook-cell:/c%3A/Users/gusta/Documents/GitHub/LeetCode/problems/1302.%20Deepest%20Leaves%20Sum.ipynb#ch0000005?line=0'>1</a>\u001b[0m sol \u001b[39m=\u001b[39m Solution()\n\u001b[1;32m----> <a href='vscode-notebook-cell:/c%3A/Users/gusta/Documents/GitHub/LeetCode/problems/1302.%20Deepest%20Leaves%20Sum.ipynb#ch0000005?line=1'>2</a>\u001b[0m \u001b[39mprint\u001b[39m(sol\u001b[39m.\u001b[39;49mdeepestLeavesSum(root))\n",
      "\u001b[1;32mc:\\Users\\gusta\\Documents\\GitHub\\LeetCode\\problems\\1302. Deepest Leaves Sum.ipynb Cell 6\u001b[0m in \u001b[0;36mSolution.deepestLeavesSum\u001b[1;34m(self, root)\u001b[0m\n\u001b[0;32m     <a href='vscode-notebook-cell:/c%3A/Users/gusta/Documents/GitHub/LeetCode/problems/1302.%20Deepest%20Leaves%20Sum.ipynb#ch0000005?line=9'>10</a>\u001b[0m \u001b[39mif\u001b[39;00m root \u001b[39m==\u001b[39m \u001b[39mNone\u001b[39;00m:\n\u001b[0;32m     <a href='vscode-notebook-cell:/c%3A/Users/gusta/Documents/GitHub/LeetCode/problems/1302.%20Deepest%20Leaves%20Sum.ipynb#ch0000005?line=10'>11</a>\u001b[0m     \u001b[39mreturn\u001b[39;00m \u001b[39m0\u001b[39m\n\u001b[1;32m---> <a href='vscode-notebook-cell:/c%3A/Users/gusta/Documents/GitHub/LeetCode/problems/1302.%20Deepest%20Leaves%20Sum.ipynb#ch0000005?line=11'>12</a>\u001b[0m \u001b[39mif\u001b[39;00m root\u001b[39m.\u001b[39;49mleft \u001b[39m==\u001b[39m \u001b[39mNone\u001b[39;00m \u001b[39mand\u001b[39;00m root\u001b[39m.\u001b[39mright \u001b[39m==\u001b[39m \u001b[39mNone\u001b[39;00m:\n\u001b[0;32m     <a href='vscode-notebook-cell:/c%3A/Users/gusta/Documents/GitHub/LeetCode/problems/1302.%20Deepest%20Leaves%20Sum.ipynb#ch0000005?line=12'>13</a>\u001b[0m     \u001b[39mreturn\u001b[39;00m root\u001b[39m.\u001b[39mval\n\u001b[0;32m     <a href='vscode-notebook-cell:/c%3A/Users/gusta/Documents/GitHub/LeetCode/problems/1302.%20Deepest%20Leaves%20Sum.ipynb#ch0000005?line=13'>14</a>\u001b[0m \u001b[39mreturn\u001b[39;00m \u001b[39mself\u001b[39m\u001b[39m.\u001b[39mdeepestLeavesSum(root\u001b[39m.\u001b[39mleft) \u001b[39m+\u001b[39m \u001b[39mself\u001b[39m\u001b[39m.\u001b[39mdeepestLeavesSum(root\u001b[39m.\u001b[39mright)\n",
      "\u001b[1;31mAttributeError\u001b[0m: 'list' object has no attribute 'left'"
     ]
    }
   ],
   "source": [
    "sol = Solution()\n",
    "print(sol.deepestLeavesSum(root))"
   ]
  },
  {
   "cell_type": "code",
   "execution_count": null,
   "metadata": {},
   "outputs": [],
   "source": [
    "514229"
   ]
  },
  {
   "cell_type": "code",
   "execution_count": null,
   "metadata": {},
   "outputs": [],
   "source": []
  },
  {
   "cell_type": "code",
   "execution_count": null,
   "metadata": {},
   "outputs": [],
   "source": []
  }
 ],
 "metadata": {
  "interpreter": {
   "hash": "ffaacc34f039b9b01b2b6187bff0b4721953aa80c9f85ab6dca6196384076cac"
  },
  "kernelspec": {
   "display_name": "Python 3.10.2 ('venv': venv)",
   "language": "python",
   "name": "python3"
  },
  "language_info": {
   "codemirror_mode": {
    "name": "ipython",
    "version": 3
   },
   "file_extension": ".py",
   "mimetype": "text/x-python",
   "name": "python",
   "nbconvert_exporter": "python",
   "pygments_lexer": "ipython3",
   "version": "3.10.2"
  },
  "orig_nbformat": 4
 },
 "nbformat": 4,
 "nbformat_minor": 2
}
