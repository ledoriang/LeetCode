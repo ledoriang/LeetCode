{
 "cells": [
  {
   "cell_type": "markdown",
   "metadata": {},
   "source": [
    "Input"
   ]
  },
  {
   "cell_type": "code",
   "execution_count": 7,
   "metadata": {},
   "outputs": [],
   "source": [
    "nums = [1,17,5,10,13,15,10,5,16,8]"
   ]
  },
  {
   "cell_type": "code",
   "execution_count": 6,
   "metadata": {},
   "outputs": [],
   "source": [
    "nums = [1,7,4,9,2,5]"
   ]
  },
  {
   "cell_type": "markdown",
   "metadata": {},
   "source": [
    "Class definition"
   ]
  },
  {
   "cell_type": "code",
   "execution_count": 91,
   "metadata": {},
   "outputs": [],
   "source": [
    "class Solution:\n",
    "    def wiggleMaxLength(self, nums: list[int]) -> int:\n",
    "        i = 0\n",
    "        sequenceDifference = [ nums[i+1] - nums[i]]\n",
    "        sign = sequenceDifference[0] > 0\n",
    "        lenNums = len(nums)\n",
    "        i += 1 \n",
    "        while i < lenNums and i+1 < lenNums:\n",
    "            print(sequenceDifference)\n",
    "            print(nums)\n",
    "            difference = nums[i+1] - nums[i]\n",
    "            tempSign = difference > 0\n",
    "            if tempSign != sign and difference != 0:\n",
    "                sequenceDifference.append(difference)\n",
    "                sign = difference > 0\n",
    "                i += 1\n",
    "            else:\n",
    "                nums.pop(i+1)\n",
    "                lenNums -= 1\n",
    "                \n",
    "        print(sequenceDifference)\n",
    "    \n",
    "  \n",
    "        "
   ]
  },
  {
   "cell_type": "code",
   "execution_count": 105,
   "metadata": {},
   "outputs": [],
   "source": [
    "class Solution:\n",
    "    def wiggleMaxLength(self, nums):\n",
    "        if not nums:\n",
    "            return 0\n",
    "        length = 1\n",
    "        up = None\n",
    "        for i in range(1, len(nums)):\n",
    "            if nums[i] > nums[i-1] and up  != True:\n",
    "                length += 1\n",
    "                up = True\n",
    "            if nums[i] < nums[i-1] and up != False:\n",
    "                length += 1\n",
    "                up = False\n",
    "        return length\n"
   ]
  },
  {
   "cell_type": "code",
   "execution_count": 106,
   "metadata": {},
   "outputs": [],
   "source": [
    "\n",
    "nums = [1,17,5,10,13,15,10,5,16,8]"
   ]
  },
  {
   "cell_type": "markdown",
   "metadata": {},
   "source": [
    "Output"
   ]
  },
  {
   "cell_type": "code",
   "execution_count": 107,
   "metadata": {},
   "outputs": [
    {
     "data": {
      "text/plain": [
       "7"
      ]
     },
     "execution_count": 107,
     "metadata": {},
     "output_type": "execute_result"
    }
   ],
   "source": [
    "sol = Solution()\n",
    "sol.wiggleMaxLength(nums)"
   ]
  },
  {
   "cell_type": "code",
   "execution_count": null,
   "metadata": {},
   "outputs": [],
   "source": []
  },
  {
   "cell_type": "code",
   "execution_count": null,
   "metadata": {},
   "outputs": [],
   "source": []
  }
 ],
 "metadata": {
  "interpreter": {
   "hash": "ffaacc34f039b9b01b2b6187bff0b4721953aa80c9f85ab6dca6196384076cac"
  },
  "kernelspec": {
   "display_name": "Python 3.10.2 ('venv': venv)",
   "language": "python",
   "name": "python3"
  },
  "language_info": {
   "codemirror_mode": {
    "name": "ipython",
    "version": 3
   },
   "file_extension": ".py",
   "mimetype": "text/x-python",
   "name": "python",
   "nbconvert_exporter": "python",
   "pygments_lexer": "ipython3",
   "version": "3.10.2"
  },
  "orig_nbformat": 4
 },
 "nbformat": 4,
 "nbformat_minor": 2
}
