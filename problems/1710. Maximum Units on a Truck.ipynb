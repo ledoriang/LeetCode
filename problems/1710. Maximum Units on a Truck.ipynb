{
 "cells": [
  {
   "cell_type": "markdown",
   "metadata": {},
   "source": [
    "Input"
   ]
  },
  {
   "cell_type": "code",
   "execution_count": 3,
   "metadata": {},
   "outputs": [],
   "source": [
    "boxTypes = [[1,3],[2,2],[3,1]]\n",
    "truckSize = 4"
   ]
  },
  {
   "cell_type": "markdown",
   "metadata": {},
   "source": [
    "Class definition"
   ]
  },
  {
   "cell_type": "code",
   "execution_count": 38,
   "metadata": {},
   "outputs": [],
   "source": [
    "class Solution:\n",
    "    def maximumUnits(self, boxTypes: list[list[int]], truckSize: int) -> int:\n",
    "        mostValueableBoxes = sorted(boxTypes,key = lambda x : -x[1])\n",
    "        units = 0\n",
    "        loadedBoxes = 0\n",
    "        for box in mostValueableBoxes:\n",
    "            spaceLeft = truckSize - loadedBoxes\n",
    "            if box[0] < spaceLeft:                \n",
    "                loadedBoxes += box[0]\n",
    "                units += box[0] *box[1]\n",
    "            elif loadedBoxes <= truckSize:\n",
    "                loadedBoxes += spaceLeft\n",
    "                units += spaceLeft * box[1]\n",
    "        return units"
   ]
  },
  {
   "cell_type": "code",
   "execution_count": 40,
   "metadata": {},
   "outputs": [],
   "source": [
    "boxTypes  =  [[5,10],[2,5],[4,7],[3,9]]\n",
    "truckSize = 10"
   ]
  },
  {
   "cell_type": "markdown",
   "metadata": {},
   "source": [
    "Output"
   ]
  },
  {
   "cell_type": "code",
   "execution_count": 41,
   "metadata": {},
   "outputs": [
    {
     "name": "stdout",
     "output_type": "stream",
     "text": [
      "[[5, 10], [3, 9], [4, 7], [2, 5]]\n",
      "units added to truck: 50\n",
      "loadedBoxes: 5\n",
      "units added to truck: 27\n",
      "loadedBoxes: 8\n",
      "loadedBoxes: 10\n",
      "spaceLeft: 2\n",
      "loadedBoxes: 10\n",
      "spaceLeft: 0\n",
      "91\n"
     ]
    }
   ],
   "source": [
    "sol = Solution()\n",
    "print(sol.maximumUnits(boxTypes, truckSize))\n"
   ]
  },
  {
   "cell_type": "code",
   "execution_count": null,
   "metadata": {},
   "outputs": [],
   "source": []
  },
  {
   "cell_type": "code",
   "execution_count": null,
   "metadata": {},
   "outputs": [],
   "source": []
  }
 ],
 "metadata": {
  "kernelspec": {
   "display_name": "Python 3.10.2 ('venv': venv)",
   "language": "python",
   "name": "python3"
  },
  "language_info": {
   "codemirror_mode": {
    "name": "ipython",
    "version": 3
   },
   "file_extension": ".py",
   "mimetype": "text/x-python",
   "name": "python",
   "nbconvert_exporter": "python",
   "pygments_lexer": "ipython3",
   "version": "3.10.2"
  },
  "orig_nbformat": 4,
  "vscode": {
   "interpreter": {
    "hash": "ffaacc34f039b9b01b2b6187bff0b4721953aa80c9f85ab6dca6196384076cac"
   }
  }
 },
 "nbformat": 4,
 "nbformat_minor": 2
}
