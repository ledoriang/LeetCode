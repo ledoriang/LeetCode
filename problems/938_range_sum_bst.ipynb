{
 "cells": [
  {
   "cell_type": "code",
   "execution_count": 7,
   "metadata": {},
   "outputs": [],
   "source": [
    "root = [10,5,15,3,7,None,18]\n",
    "low = 7\n",
    "high = 15"
   ]
  },
  {
   "cell_type": "code",
   "execution_count": 8,
   "metadata": {},
   "outputs": [],
   "source": [
    "# Definition for a binary tree node.\n",
    "class TreeNode(object):\n",
    "    def __init__(self, val=0, left=None, right=None):\n",
    "        self.val = val\n",
    "        self.left = left\n",
    "        self.right = right\n",
    "\n",
    "\n",
    "class Solution(object):\n",
    "    def rangeSumBST(self, root: TreeNode, L: int, R: int) -> int:\n",
    "        if not root:\n",
    "            return 0\n",
    "        elif root.val < L:\n",
    "            return self.rangeSumBST(root.right, L, R)\n",
    "        elif root.val > R:\n",
    "            return self.rangeSumBST(root.left, L, R)\n",
    "        return root.val + self.rangeSumBST(root.left, L, R) + self.rangeSumBST(root.right, L, R)\n"
   ]
  },
  {
   "cell_type": "code",
   "execution_count": null,
   "metadata": {},
   "outputs": [],
   "source": [
    " def rangeSumBST(self, root: TreeNode, L: int, R: int) -> int:\n",
    "        if root == None: return 0\n",
    "        if root.val > R: return self.rangeSumBST(root.left,L,R)\n",
    "        if root.val < L: return self.rangeSumBST(root.right,L,R)\n",
    "        return root.val + self.rangeSumBST(root.left,L,R) + self.rangeSumBST(root.right,L,R)   "
   ]
  },
  {
   "cell_type": "code",
   "execution_count": 9,
   "metadata": {},
   "outputs": [
    {
     "ename": "AttributeError",
     "evalue": "'list' object has no attribute 'val'",
     "output_type": "error",
     "traceback": [
      "\u001b[1;31m---------------------------------------------------------------------------\u001b[0m",
      "\u001b[1;31mAttributeError\u001b[0m                            Traceback (most recent call last)",
      "\u001b[1;32mc:\\Users\\gusta\\Documents\\GitHub\\leets\\problems\\938_range_sum_bst.ipynb Cell 3'\u001b[0m in \u001b[0;36m<module>\u001b[1;34m\u001b[0m\n\u001b[0;32m      <a href='vscode-notebook-cell:/c%3A/Users/gusta/Documents/GitHub/leets/problems/938_range_sum_bst.ipynb#ch0000006?line=0'>1</a>\u001b[0m sol \u001b[39m=\u001b[39m Solution()\n\u001b[1;32m----> <a href='vscode-notebook-cell:/c%3A/Users/gusta/Documents/GitHub/leets/problems/938_range_sum_bst.ipynb#ch0000006?line=1'>2</a>\u001b[0m sol\u001b[39m.\u001b[39;49mrangeSumBST(root\u001b[39m=\u001b[39;49mroot,L\u001b[39m=\u001b[39;49m low,R\u001b[39m=\u001b[39;49mhigh)\n",
      "\u001b[1;32mc:\\Users\\gusta\\Documents\\GitHub\\leets\\problems\\938_range_sum_bst.ipynb Cell 2'\u001b[0m in \u001b[0;36mSolution.rangeSumBST\u001b[1;34m(self, root, L, R)\u001b[0m\n\u001b[0;32m     <a href='vscode-notebook-cell:/c%3A/Users/gusta/Documents/GitHub/leets/problems/938_range_sum_bst.ipynb#ch0000005?line=10'>11</a>\u001b[0m \u001b[39mif\u001b[39;00m \u001b[39mnot\u001b[39;00m root:\n\u001b[0;32m     <a href='vscode-notebook-cell:/c%3A/Users/gusta/Documents/GitHub/leets/problems/938_range_sum_bst.ipynb#ch0000005?line=11'>12</a>\u001b[0m     \u001b[39mreturn\u001b[39;00m \u001b[39m0\u001b[39m\n\u001b[1;32m---> <a href='vscode-notebook-cell:/c%3A/Users/gusta/Documents/GitHub/leets/problems/938_range_sum_bst.ipynb#ch0000005?line=12'>13</a>\u001b[0m \u001b[39melif\u001b[39;00m root\u001b[39m.\u001b[39;49mval \u001b[39m<\u001b[39m L:\n\u001b[0;32m     <a href='vscode-notebook-cell:/c%3A/Users/gusta/Documents/GitHub/leets/problems/938_range_sum_bst.ipynb#ch0000005?line=13'>14</a>\u001b[0m     \u001b[39mreturn\u001b[39;00m \u001b[39mself\u001b[39m\u001b[39m.\u001b[39mrangeSumBST(root\u001b[39m.\u001b[39mright, L, R)\n\u001b[0;32m     <a href='vscode-notebook-cell:/c%3A/Users/gusta/Documents/GitHub/leets/problems/938_range_sum_bst.ipynb#ch0000005?line=14'>15</a>\u001b[0m \u001b[39melif\u001b[39;00m root\u001b[39m.\u001b[39mval \u001b[39m>\u001b[39m R:\n",
      "\u001b[1;31mAttributeError\u001b[0m: 'list' object has no attribute 'val'"
     ]
    }
   ],
   "source": [
    "sol = Solution()\n",
    "sol.rangeSumBST(root=root,L= low,R=high)"
   ]
  },
  {
   "cell_type": "code",
   "execution_count": null,
   "metadata": {},
   "outputs": [],
   "source": []
  }
 ],
 "metadata": {
  "interpreter": {
   "hash": "2be5faf79681da6f2a61fdfdd5405d65d042280f7fba6178067603e3a2925119"
  },
  "kernelspec": {
   "display_name": "Python 3.10.2 64-bit",
   "language": "python",
   "name": "python3"
  },
  "language_info": {
   "codemirror_mode": {
    "name": "ipython",
    "version": 3
   },
   "file_extension": ".py",
   "mimetype": "text/x-python",
   "name": "python",
   "nbconvert_exporter": "python",
   "pygments_lexer": "ipython3",
   "version": "3.10.2"
  },
  "orig_nbformat": 4
 },
 "nbformat": 4,
 "nbformat_minor": 2
}
