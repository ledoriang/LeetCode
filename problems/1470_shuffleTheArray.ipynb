{
 "cells": [
  {
   "cell_type": "code",
   "execution_count": 57,
   "metadata": {},
   "outputs": [],
   "source": [
    "def shuffle(nums, n):\n",
    "    insertedCount = 0 \n",
    "    for i in range(2*n):\n",
    "        print(\"i\",i)\n",
    "        if(i%2 == 0):\n",
    "            print(\"activated\")\n",
    "            nums = shiftNumbs(nums,i+1,insertedCount+n,nums[insertedCount+n])\n",
    "    # while insertedCount < n-1:\n",
    "      \n",
    "\n",
    "def shiftNumbs(arr,startPoz,endPoz, numbToInsert):\n",
    "    for x in range(endPoz-1,startPoz-1, -1):\n",
    "        arr[x + 1 ] = arr[x]\n",
    "        print(arr[x])\n",
    "    arr[startPoz] = numbToInsert\n",
    "    return arr\n",
    "\n"
   ]
  },
  {
   "cell_type": "code",
   "execution_count": 58,
   "metadata": {},
   "outputs": [],
   "source": [
    "nums = [2,5,1,3,4,7]\n",
    "n = 3\n",
    "# shiftNumbs(nums,1,3,nums[3])"
   ]
  },
  {
   "cell_type": "code",
   "execution_count": 59,
   "metadata": {},
   "outputs": [
    {
     "name": "stdout",
     "output_type": "stream",
     "text": [
      "i 0\n",
      "activated\n",
      "1\n",
      "5\n",
      "i 1\n",
      "i 2\n",
      "activated\n",
      "i 3\n",
      "i 4\n",
      "activated\n",
      "i 5\n",
      "[2, 3, 5, 1, 4, 1]\n"
     ]
    }
   ],
   "source": [
    "shuffle(nums,n)\n",
    "print(nums)"
   ]
  },
  {
   "cell_type": "code",
   "execution_count": null,
   "metadata": {},
   "outputs": [],
   "source": []
  }
 ],
 "metadata": {
  "interpreter": {
   "hash": "2be5faf79681da6f2a61fdfdd5405d65d042280f7fba6178067603e3a2925119"
  },
  "kernelspec": {
   "display_name": "Python 3.10.2 64-bit",
   "language": "python",
   "name": "python3"
  },
  "language_info": {
   "codemirror_mode": {
    "name": "ipython",
    "version": 3
   },
   "file_extension": ".py",
   "mimetype": "text/x-python",
   "name": "python",
   "nbconvert_exporter": "python",
   "pygments_lexer": "ipython3",
   "version": "3.10.2"
  },
  "orig_nbformat": 4
 },
 "nbformat": 4,
 "nbformat_minor": 2
}
