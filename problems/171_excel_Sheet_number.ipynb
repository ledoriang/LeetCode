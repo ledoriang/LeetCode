{
 "cells": [
  {
   "cell_type": "code",
   "execution_count": 88,
   "metadata": {},
   "outputs": [],
   "source": [
    "def titleToNumber(columnTitle):\n",
    "    import math\n",
    "\n",
    "    mapOfChars = list(map(chr,(range(ord('A'),ord('Z')+1))))\n",
    "    mapOfNums = list(range(1,27))\n",
    "    mapOfValues = dict(zip(mapOfChars,mapOfNums))\n",
    "\n",
    "    lenString = len(columnTitle)\n",
    "    if(lenString == 1):\n",
    "        return mapOfValues[columnTitle]\n",
    "    \n",
    "    if(lenString >1):\n",
    "        numberToAdd = 0\n",
    "        for i in range(lenString):\n",
    "            numberToAdd = (26 * numberToAdd) + mapOfValues[columnTitle[i]]\n",
    "        return numberToAdd"
   ]
  },
  {
   "cell_type": "code",
   "execution_count": 89,
   "metadata": {},
   "outputs": [
    {
     "data": {
      "text/plain": [
       "2147483647"
      ]
     },
     "execution_count": 89,
     "metadata": {},
     "output_type": "execute_result"
    }
   ],
   "source": [
    "titleToNumber(\"FXSHRXW\")\n"
   ]
  }
 ],
 "metadata": {
  "interpreter": {
   "hash": "2be5faf79681da6f2a61fdfdd5405d65d042280f7fba6178067603e3a2925119"
  },
  "kernelspec": {
   "display_name": "Python 3.10.2 64-bit",
   "language": "python",
   "name": "python3"
  },
  "language_info": {
   "codemirror_mode": {
    "name": "ipython",
    "version": 3
   },
   "file_extension": ".py",
   "mimetype": "text/x-python",
   "name": "python",
   "nbconvert_exporter": "python",
   "pygments_lexer": "ipython3",
   "version": "3.10.2"
  },
  "orig_nbformat": 4
 },
 "nbformat": 4,
 "nbformat_minor": 2
}
