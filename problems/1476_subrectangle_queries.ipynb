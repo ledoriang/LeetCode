{
 "cells": [
  {
   "cell_type": "code",
   "execution_count": 136,
   "metadata": {},
   "outputs": [],
   "source": [
    "class SubrectangleQueries(object):\n",
    "\n",
    "    def __init__(self, rectangle):\n",
    "        self.rectangle = rectangle\n",
    "        self.rowCount = len(rectangle)\n",
    "        self.colCount = len(rectangle[0])\n",
    "        \"\"\"\n",
    "        :type rectangle: List[List[int]]\n",
    "        \"\"\"\n",
    "\n",
    "    def updateSubrectangle(self, row1, col1, row2, col2, newValue):\n",
    "        \"\"\"\n",
    "        :type row1: int\n",
    "        :type col1: int\n",
    "        :type row2: int\n",
    "        :type col2: int\n",
    "        :type newValue: int\n",
    "        :rtype: None\n",
    "        \"\"\"\n",
    "        if(row1 == row2 and col1 == col2):\n",
    "            self.setValue(row=row1, col=col1,newValue=newValue)\n",
    "        else:\n",
    "            for row in range(row1, row2+1):\n",
    "                if(row == row1):\n",
    "                    self.setValueForLoop(\n",
    "                        startCol=col1, stopCol=self.colCount, row=row, newValue=newValue)\n",
    "\n",
    "                elif(row == row2):\n",
    "                    self.setValueForLoop(\n",
    "                        startCol=0, stopCol=col2+1, row=row, newValue=newValue)\n",
    "\n",
    "                else:\n",
    "                    self.setValueForLoop(\n",
    "                        startCol=0, stopCol=self.colCount, row=row, newValue=newValue)\n",
    "\n",
    "    def getValue(self, row, col):\n",
    "        \"\"\"\n",
    "        :type row: int\n",
    "        :type col: int\n",
    "        :rtype: int\n",
    "        \"\"\"\n",
    "        return self.rectangle[row][col]\n",
    "\n",
    "    def setValue(self, row, col, newValue):\n",
    "        self.rectangle[row][col] = newValue\n",
    "\n",
    "    def setValueForLoop(self, startCol, stopCol, row, newValue):\n",
    "        for col in range(startCol, stopCol):\n",
    "            self.rectangle[row][col] = newValue\n",
    "\n",
    "    def getRectangleList(self):\n",
    "        return self.rectangle\n",
    "\n",
    "    def printMatrix(self):\n",
    "        for rows in enumerate(self.rectangle):\n",
    "            print(rows[1])\n",
    "        print(\"Row Count:\", self.rowCount)\n",
    "        print(\"Col Count:\", self.colCount)\n"
   ]
  },
  {
   "cell_type": "code",
   "execution_count": 156,
   "metadata": {},
   "outputs": [],
   "source": [
    "class SubrectangleQueries(object):\n",
    "\n",
    "    def __init__(self, rectangle):\n",
    "        self.rectangle = rectangle\n",
    "        self.rowCount = len(rectangle)\n",
    "        self.colCount = len(rectangle[0])\n",
    "        \"\"\"\n",
    "        :type rectangle: List[List[int]]\n",
    "        \"\"\"\n",
    "\n",
    "    def updateSubrectangle(self, row1, col1, row2, col2, newValue):\n",
    "        \"\"\"\n",
    "        :type row1: int\n",
    "        :type col1: int\n",
    "        :type row2: int\n",
    "        :type col2: int\n",
    "        :type newValue: int\n",
    "        :rtype: None\n",
    "        \"\"\"\n",
    "\n",
    "        for i in range(row1, row2 + 1):\n",
    "            for j in range(col1, col2 + 1):\n",
    "                self.rectangle[i][j] = newValue\n",
    "\n",
    "    def getValue(self, row, col):\n",
    "        \"\"\"\n",
    "        :type row: int\n",
    "        :type col: int\n",
    "        :rtype: int\n",
    "        \"\"\"\n",
    "        return self.rectangle[row][col]\n",
    "\n",
    "\n",
    "    def getRectangleList(self):\n",
    "        return self.rectangle\n",
    "\n",
    "    def printMatrix(self):\n",
    "        for rows in enumerate(self.rectangle):\n",
    "            print(rows[1])\n",
    "        print(\"Row Count:\", self.rowCount)\n",
    "        print(\"Col Count:\", self.colCount)\n"
   ]
  },
  {
   "cell_type": "code",
   "execution_count": 157,
   "metadata": {},
   "outputs": [],
   "source": [
    "rectangle_test_1 = [[1,2,1],[4,3,4],[3,2,1],[1,1,1]]\n",
    "rectangle_test_2 = [[5,2,5,9,4],[10,7,1,4,1],[7,3,1,3,8],[9,7,9,4,9]]\n",
    "rectangle_test_3 = [[3,9,4],[5,6,10]]"
   ]
  },
  {
   "cell_type": "code",
   "execution_count": 168,
   "metadata": {},
   "outputs": [],
   "source": [
    "rectangle = SubrectangleQueries(rectangle_test_2)"
   ]
  },
  {
   "cell_type": "code",
   "execution_count": 169,
   "metadata": {},
   "outputs": [
    {
     "name": "stdout",
     "output_type": "stream",
     "text": [
      "[5, 2, 5, 9, 4]\n",
      "[10, 7, 1, 4, 1]\n",
      "[7, 3, 1, 3, 8]\n",
      "[9, 7, 9, 4, 9]\n",
      "Row Count: 4\n",
      "Col Count: 5\n"
     ]
    }
   ],
   "source": [
    "rectangle.printMatrix()"
   ]
  },
  {
   "cell_type": "code",
   "execution_count": 170,
   "metadata": {},
   "outputs": [],
   "source": [
    "# rectangle.updateSubrectangle(0, 1, 3, 1, 5)\n",
    "rectangle.updateSubrectangle(1,0,3,3,10)\n",
    "# rectangle.updateSubrectangle(1,1,1,1,5)\n"
   ]
  },
  {
   "cell_type": "code",
   "execution_count": 171,
   "metadata": {},
   "outputs": [
    {
     "name": "stdout",
     "output_type": "stream",
     "text": [
      "[5, 2, 5, 9, 4]\n",
      "[10, 10, 10, 10, 1]\n",
      "[10, 10, 10, 10, 8]\n",
      "[10, 10, 10, 10, 9]\n",
      "Row Count: 4\n",
      "Col Count: 5\n"
     ]
    }
   ],
   "source": [
    "rectangle.printMatrix()"
   ]
  },
  {
   "cell_type": "code",
   "execution_count": 149,
   "metadata": {},
   "outputs": [],
   "source": [
    "rectangle.updateSubrectangle(3,2,3,2,4)"
   ]
  },
  {
   "cell_type": "code",
   "execution_count": 150,
   "metadata": {},
   "outputs": [
    {
     "name": "stdout",
     "output_type": "stream",
     "text": [
      "[5, 2, 5, 9, 4]\n",
      "[10, 10, 10, 10, 10]\n",
      "[10, 10, 10, 10, 10]\n",
      "[10, 10, 4, 10, 9]\n",
      "Row Count: 4\n",
      "Col Count: 5\n"
     ]
    }
   ],
   "source": [
    "rectangle.printMatrix()\n"
   ]
  },
  {
   "cell_type": "code",
   "execution_count": null,
   "metadata": {},
   "outputs": [],
   "source": [
    "\n",
    "[\"SubrectangleQueries\",\"updateSubrectangle\",\"updateSubrectangle\",\"getValue\",\"getValue\",\"getValue\",\"updateSubrectangle\"]\n",
    "[[[[5,2,5,9,4],[10,7,1,4,1],[7,3,1,3,8],[9,7,9,4,9]]],[1,0,3,3,10],[3,2,3,2,4],[2,0],[2,2],[3,4],[1,4,1,4,10]]"
   ]
  }
 ],
 "metadata": {
  "interpreter": {
   "hash": "2be5faf79681da6f2a61fdfdd5405d65d042280f7fba6178067603e3a2925119"
  },
  "kernelspec": {
   "display_name": "Python 3.10.2 64-bit",
   "language": "python",
   "name": "python3"
  },
  "language_info": {
   "codemirror_mode": {
    "name": "ipython",
    "version": 3
   },
   "file_extension": ".py",
   "mimetype": "text/x-python",
   "name": "python",
   "nbconvert_exporter": "python",
   "pygments_lexer": "ipython3",
   "version": "3.10.2"
  },
  "orig_nbformat": 4
 },
 "nbformat": 4,
 "nbformat_minor": 2
}
