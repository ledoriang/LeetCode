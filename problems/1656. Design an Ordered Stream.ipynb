{
 "cells": [
  {
   "cell_type": "markdown",
   "metadata": {},
   "source": [
    "Input"
   ]
  },
  {
   "cell_type": "code",
   "execution_count": 1,
   "metadata": {},
   "outputs": [],
   "source": [
    "n = 5\n",
    "actions = [[3, \"ccccc\"], [1, \"aaaaa\"], [2, \"bbbbb\"], [5, \"eeeee\"], [4, \"ddddd\"]]"
   ]
  },
  {
   "cell_type": "markdown",
   "metadata": {},
   "source": [
    "Class definition"
   ]
  },
  {
   "cell_type": "code",
   "execution_count": 23,
   "metadata": {},
   "outputs": [],
   "source": [
    "class OrderedStream:\n",
    "\n",
    "    def __init__(self, n: int):\n",
    "        self.n = n\n",
    "        # create an empty list of n length\n",
    "        self.stream = [None] * n\n",
    "        self.idx = 0\n",
    "        \n",
    "\n",
    "    def insert(self, idKey: int, value: str) -> list[str]:\n",
    "        res = []\n",
    "        working_id = idKey - 1\n",
    "        self.stream[working_id] = value\n",
    "        if(working_id == self.idx):\n",
    "            if None in self.stream:\n",
    "                none_idx = self.stream.index(None)\n",
    "                res = self.stream[working_id:none_idx]\n",
    "                self.idx = none_idx\n",
    "            else:\n",
    "                res = self.stream[working_id:]\n",
    "                self.idx = working_id + 1\n",
    "        return res\n",
    "\n",
    "\n",
    "        \n",
    "\n",
    "\n",
    "# Your OrderedStream object will be instantiated and called as such:\n",
    "# obj = OrderedStream(n)\n",
    "# param_1 = obj.insert(idKey,value)\n",
    "        "
   ]
  },
  {
   "cell_type": "markdown",
   "metadata": {},
   "source": [
    "Output"
   ]
  },
  {
   "cell_type": "code",
   "execution_count": 24,
   "metadata": {},
   "outputs": [
    {
     "name": "stdout",
     "output_type": "stream",
     "text": [
      "[]\n",
      "['aaaaa']\n",
      "['bbbbb', 'ccccc']\n",
      "[]\n",
      "['ddddd', 'eeeee']\n"
     ]
    }
   ],
   "source": [
    "obj = OrderedStream(n)\n",
    "param_1 = obj.insert(actions[0][0], actions[0][1])\n",
    "param_1 = obj.insert(actions[1][0], actions[1][1])\n",
    "param_1 = obj.insert(actions[2][0], actions[2][1])\n",
    "param_1 = obj.insert(actions[3][0], actions[3][1])\n",
    "param_1 = obj.insert(actions[4][0], actions[4][1])"
   ]
  },
  {
   "cell_type": "code",
   "execution_count": 22,
   "metadata": {},
   "outputs": [
    {
     "name": "stdout",
     "output_type": "stream",
     "text": [
      "['aaaaa', 'bbbbb', 'ccccc', 'dddd', 'eeeee']\n"
     ]
    }
   ],
   "source": [
    "# copy array\n",
    "temp_stream = obj.stream[:]\n",
    "temp_stream[3] = \"dddd\"\n",
    "print(temp_stream)\n"
   ]
  },
  {
   "cell_type": "code",
   "execution_count": 6,
   "metadata": {},
   "outputs": [],
   "source": [
    "\n",
    "    print(\"None in temp_stream\")"
   ]
  },
  {
   "cell_type": "code",
   "execution_count": null,
   "metadata": {},
   "outputs": [],
   "source": []
  }
 ],
 "metadata": {
  "kernelspec": {
   "display_name": "Python 3.10.2 ('venv': venv)",
   "language": "python",
   "name": "python3"
  },
  "language_info": {
   "codemirror_mode": {
    "name": "ipython",
    "version": 3
   },
   "file_extension": ".py",
   "mimetype": "text/x-python",
   "name": "python",
   "nbconvert_exporter": "python",
   "pygments_lexer": "ipython3",
   "version": "3.10.2"
  },
  "orig_nbformat": 4,
  "vscode": {
   "interpreter": {
    "hash": "ffaacc34f039b9b01b2b6187bff0b4721953aa80c9f85ab6dca6196384076cac"
   }
  }
 },
 "nbformat": 4,
 "nbformat_minor": 2
}
