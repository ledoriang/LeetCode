{
 "cells": [
  {
   "cell_type": "code",
   "execution_count": 2,
   "metadata": {},
   "outputs": [],
   "source": [
    "num1 = -10\n",
    "num2 = 4"
   ]
  },
  {
   "cell_type": "code",
   "execution_count": 5,
   "metadata": {},
   "outputs": [],
   "source": [
    "class Solution(object):\n",
    "    def sum(self, num1, num2):\n",
    "        \"\"\"\n",
    "        :type num1: int\n",
    "        :type num2: int\n",
    "        :rtype: int\n",
    "        \"\"\"\n",
    "        return sum(num1,num2)\n",
    "        "
   ]
  },
  {
   "cell_type": "code",
   "execution_count": 6,
   "metadata": {},
   "outputs": [
    {
     "ename": "TypeError",
     "evalue": "'int' object is not iterable",
     "output_type": "error",
     "traceback": [
      "\u001b[1;31m---------------------------------------------------------------------------\u001b[0m",
      "\u001b[1;31mTypeError\u001b[0m                                 Traceback (most recent call last)",
      "\u001b[1;32mc:\\Users\\gusta\\Documents\\GitHub\\leets\\problems\\2235_add_two_integers.ipynb Cell 3'\u001b[0m in \u001b[0;36m<module>\u001b[1;34m\u001b[0m\n\u001b[0;32m      <a href='vscode-notebook-cell:/c%3A/Users/gusta/Documents/GitHub/leets/problems/2235_add_two_integers.ipynb#ch0000005?line=0'>1</a>\u001b[0m sol \u001b[39m=\u001b[39m Solution()\n\u001b[1;32m----> <a href='vscode-notebook-cell:/c%3A/Users/gusta/Documents/GitHub/leets/problems/2235_add_two_integers.ipynb#ch0000005?line=1'>2</a>\u001b[0m sol\u001b[39m.\u001b[39;49msum(num1,num2)\n",
      "\u001b[1;32mc:\\Users\\gusta\\Documents\\GitHub\\leets\\problems\\2235_add_two_integers.ipynb Cell 2'\u001b[0m in \u001b[0;36mSolution.sum\u001b[1;34m(self, num1, num2)\u001b[0m\n\u001b[0;32m      <a href='vscode-notebook-cell:/c%3A/Users/gusta/Documents/GitHub/leets/problems/2235_add_two_integers.ipynb#ch0000009?line=1'>2</a>\u001b[0m \u001b[39mdef\u001b[39;00m \u001b[39msum\u001b[39m(\u001b[39mself\u001b[39m, num1, num2):\n\u001b[0;32m      <a href='vscode-notebook-cell:/c%3A/Users/gusta/Documents/GitHub/leets/problems/2235_add_two_integers.ipynb#ch0000009?line=2'>3</a>\u001b[0m     \u001b[39m\"\"\"\u001b[39;00m\n\u001b[0;32m      <a href='vscode-notebook-cell:/c%3A/Users/gusta/Documents/GitHub/leets/problems/2235_add_two_integers.ipynb#ch0000009?line=3'>4</a>\u001b[0m \u001b[39m    :type num1: int\u001b[39;00m\n\u001b[0;32m      <a href='vscode-notebook-cell:/c%3A/Users/gusta/Documents/GitHub/leets/problems/2235_add_two_integers.ipynb#ch0000009?line=4'>5</a>\u001b[0m \u001b[39m    :type num2: int\u001b[39;00m\n\u001b[0;32m      <a href='vscode-notebook-cell:/c%3A/Users/gusta/Documents/GitHub/leets/problems/2235_add_two_integers.ipynb#ch0000009?line=5'>6</a>\u001b[0m \u001b[39m    :rtype: int\u001b[39;00m\n\u001b[0;32m      <a href='vscode-notebook-cell:/c%3A/Users/gusta/Documents/GitHub/leets/problems/2235_add_two_integers.ipynb#ch0000009?line=6'>7</a>\u001b[0m \u001b[39m    \"\"\"\u001b[39;00m\n\u001b[1;32m----> <a href='vscode-notebook-cell:/c%3A/Users/gusta/Documents/GitHub/leets/problems/2235_add_two_integers.ipynb#ch0000009?line=7'>8</a>\u001b[0m     \u001b[39mreturn\u001b[39;00m \u001b[39msum\u001b[39;49m(num1,num2)\n",
      "\u001b[1;31mTypeError\u001b[0m: 'int' object is not iterable"
     ]
    }
   ],
   "source": [
    "sol = Solution()\n",
    "sol.sum(num1,num2)"
   ]
  },
  {
   "cell_type": "code",
   "execution_count": null,
   "metadata": {},
   "outputs": [],
   "source": []
  }
 ],
 "metadata": {
  "interpreter": {
   "hash": "2be5faf79681da6f2a61fdfdd5405d65d042280f7fba6178067603e3a2925119"
  },
  "kernelspec": {
   "display_name": "Python 3.10.2 64-bit",
   "language": "python",
   "name": "python3"
  },
  "language_info": {
   "codemirror_mode": {
    "name": "ipython",
    "version": 3
   },
   "file_extension": ".py",
   "mimetype": "text/x-python",
   "name": "python",
   "nbconvert_exporter": "python",
   "pygments_lexer": "ipython3",
   "version": "3.10.2"
  },
  "orig_nbformat": 4
 },
 "nbformat": 4,
 "nbformat_minor": 2
}
