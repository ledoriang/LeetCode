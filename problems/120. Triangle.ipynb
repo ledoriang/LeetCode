{
 "cells": [
  {
   "cell_type": "markdown",
   "metadata": {},
   "source": [
    "Input"
   ]
  },
  {
   "cell_type": "markdown",
   "metadata": {},
   "source": [
    "Class definition"
   ]
  },
  {
   "cell_type": "code",
   "execution_count": 17,
   "metadata": {},
   "outputs": [],
   "source": [
    "triangle = [[2],[3,4],[6,5,7],[4,1,8,3]]"
   ]
  },
  {
   "cell_type": "code",
   "execution_count": 63,
   "metadata": {},
   "outputs": [],
   "source": [
    "triangle = [[-1],[2,3],[1,-1,-3]]"
   ]
  },
  {
   "cell_type": "code",
   "execution_count": 27,
   "metadata": {},
   "outputs": [],
   "source": [
    "triangle = [[-10]]"
   ]
  },
  {
   "cell_type": "code",
   "execution_count": 20,
   "metadata": {},
   "outputs": [
    {
     "data": {
      "text/plain": [
       "3"
      ]
     },
     "execution_count": 20,
     "metadata": {},
     "output_type": "execute_result"
    }
   ],
   "source": [
    "triangle[1][0]"
   ]
  },
  {
   "cell_type": "code",
   "execution_count": 60,
   "metadata": {},
   "outputs": [
    {
     "name": "stdout",
     "output_type": "stream",
     "text": [
      "1\n",
      "0\n"
     ]
    }
   ],
   "source": [
    "for i in range(1,-1,-1):\n",
    "    print(i)"
   ]
  },
  {
   "cell_type": "code",
   "execution_count": 46,
   "metadata": {},
   "outputs": [],
   "source": [
    "class Solution:\n",
    "    def minimumTotal(self, triangle: list[list[int]]) -> int:\n",
    "        output_sum = triangle[0][0]\n",
    "\n",
    "        lB = 0\n",
    "        rB = 1\n",
    "        # Iterate through the triangle  \n",
    "        for triangle_index in range(1,len(triangle)):\n",
    "            # Find the minimam value and index\n",
    "        \n",
    "            # tL = 1\n",
    "            tL_min = float('inf')\n",
    "            tL_min_i = lB\n",
    "            print(triangle[triangle_index][lB:rB+1])\n",
    "            for tL in range(lB,rB+1):\n",
    "                # print(tL)\n",
    "                if(triangle[triangle_index][tL] <= tL_min):\n",
    "                    tL_min = triangle[triangle_index][tL]\n",
    "                    tL_min_i = tL\n",
    "            print(f\"tlMin {tL_min} tlMin_i {tL_min_i}\")\n",
    "            output_sum += tL_min\n",
    "            lB = tL_min_i\n",
    "            rB = min(lB+1,len(triangle[-1])-1)\n",
    "            print(f\"lB {lB}, rB {rB}, output_sum {output_sum}\")\n",
    "        return output_sum\n",
    "\n",
    "\n",
    "    # for index, value in enumerate(triangle[triangle_index]):\n",
    "    #     rB = index + 1\n",
    "    #     # if(rB ): \n",
    "    #     if(rB >= len(triangle[triangle_index])):rB = index\n",
    "    #     print(min(triangle[triangle_index][index:rB+1]))\n",
    "   "
   ]
  },
  {
   "cell_type": "code",
   "execution_count": 64,
   "metadata": {},
   "outputs": [],
   "source": [
    "class Solution:\n",
    "    def minimumTotal(self, triangle: list[list[int]]) -> int:\n",
    "        if not triangle:\n",
    "            return \n",
    "        res = triangle[-1]\n",
    "        for i in range(len(triangle)-2, -1, -1):\n",
    "            for j in range(len(triangle[i])):\n",
    "                res[j] = min(res[j], res[j+1]) + triangle[i][j]\n",
    "                print(res[j])\n",
    "        return res[0] ,res"
   ]
  },
  {
   "cell_type": "markdown",
   "metadata": {},
   "source": [
    "Output"
   ]
  },
  {
   "cell_type": "code",
   "execution_count": 66,
   "metadata": {},
   "outputs": [
    {
     "name": "stdout",
     "output_type": "stream",
     "text": [
      "1\n",
      "0\n",
      "-1\n"
     ]
    },
    {
     "data": {
      "text/plain": [
       "(-1, [-1, 0, -3])"
      ]
     },
     "execution_count": 66,
     "metadata": {},
     "output_type": "execute_result"
    }
   ],
   "source": [
    "sol = Solution()\n",
    "sol.minimumTotal(triangle=triangle)"
   ]
  },
  {
   "cell_type": "code",
   "execution_count": null,
   "metadata": {},
   "outputs": [],
   "source": []
  }
 ],
 "metadata": {
  "interpreter": {
   "hash": "ffaacc34f039b9b01b2b6187bff0b4721953aa80c9f85ab6dca6196384076cac"
  },
  "kernelspec": {
   "display_name": "Python 3.10.2 ('venv': venv)",
   "language": "python",
   "name": "python3"
  },
  "language_info": {
   "codemirror_mode": {
    "name": "ipython",
    "version": 3
   },
   "file_extension": ".py",
   "mimetype": "text/x-python",
   "name": "python",
   "nbconvert_exporter": "python",
   "pygments_lexer": "ipython3",
   "version": "3.10.2"
  },
  "orig_nbformat": 4
 },
 "nbformat": 4,
 "nbformat_minor": 2
}
