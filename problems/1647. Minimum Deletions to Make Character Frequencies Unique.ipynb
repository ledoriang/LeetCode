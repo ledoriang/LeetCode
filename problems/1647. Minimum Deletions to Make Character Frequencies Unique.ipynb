{
 "cells": [
  {
   "cell_type": "markdown",
   "metadata": {},
   "source": [
    "Input"
   ]
  },
  {
   "cell_type": "code",
   "execution_count": 77,
   "metadata": {},
   "outputs": [],
   "source": [
    "s = \"accdcdadddbaadbc\"\n",
    "s = \"aaabbbcc\""
   ]
  },
  {
   "cell_type": "markdown",
   "metadata": {},
   "source": [
    "Class definition"
   ]
  },
  {
   "cell_type": "code",
   "execution_count": 22,
   "metadata": {},
   "outputs": [],
   "source": [
    "class Solution:\n",
    "    def minDeletions(self, s: str) -> int:\n",
    "        import collections\n",
    "        count_s = collections.Counter(s)\n",
    "        stringValuesSorted = list(count_s.values())\n",
    "        stringValuesSorted.sort()\n",
    "\n",
    "        uniqueValues = []\n",
    "        deletions = 0\n",
    "        for i in range(len(stringValuesSorted)):\n",
    "            if stringValuesSorted[i] not in uniqueValues:\n",
    "                uniqueValues.append(stringValuesSorted[i])\n",
    "            else:\n",
    "                currentMinValue = uniqueValues[0]\n",
    "                if currentMinValue == 1:\n",
    "                    deletions += stringValuesSorted[i]\n",
    "                else:\n",
    "                    deletions += currentMinValue\n",
    "                    uniqueValues.insert(0, stringValuesSorted[i] - currentMinValue)\n",
    "                \n",
    "\n",
    "        "
   ]
  },
  {
   "cell_type": "code",
   "execution_count": 80,
   "metadata": {},
   "outputs": [],
   "source": [
    "import collections\n",
    "\n",
    "class Solution:\n",
    "    def minDeletions(self, s: str) -> int:\n",
    "        count_s = collections.Counter(s)\n",
    "        set_s = set()\n",
    "        deletions = 0\n",
    "        for _,char_count in (count_s.items()):\n",
    "            while char_count > 0 and char_count in set_s:\n",
    "                char_count -= 1\n",
    "                deletions += 1\n",
    "            set_s.add(char_count)\n",
    "        return deletions\n"
   ]
  },
  {
   "cell_type": "markdown",
   "metadata": {},
   "source": [
    "Output"
   ]
  },
  {
   "cell_type": "code",
   "execution_count": 81,
   "metadata": {},
   "outputs": [
    {
     "name": "stdout",
     "output_type": "stream",
     "text": [
      "2\n"
     ]
    }
   ],
   "source": [
    "sol = Solution()\n",
    "print(sol.minDeletions(s))"
   ]
  },
  {
   "cell_type": "code",
   "execution_count": null,
   "metadata": {},
   "outputs": [],
   "source": []
  }
 ],
 "metadata": {
  "kernelspec": {
   "display_name": "Python 3.10.2 ('venv': venv)",
   "language": "python",
   "name": "python3"
  },
  "language_info": {
   "codemirror_mode": {
    "name": "ipython",
    "version": 3
   },
   "file_extension": ".py",
   "mimetype": "text/x-python",
   "name": "python",
   "nbconvert_exporter": "python",
   "pygments_lexer": "ipython3",
   "version": "3.10.2"
  },
  "orig_nbformat": 4,
  "vscode": {
   "interpreter": {
    "hash": "ffaacc34f039b9b01b2b6187bff0b4721953aa80c9f85ab6dca6196384076cac"
   }
  }
 },
 "nbformat": 4,
 "nbformat_minor": 2
}
