{
 "cells": [
  {
   "cell_type": "code",
   "execution_count": 2,
   "metadata": {},
   "outputs": [],
   "source": []
  },
  {
   "cell_type": "code",
   "execution_count": 39,
   "metadata": {},
   "outputs": [],
   "source": [
    "class Node():\n",
    "    def __init__(self, val):\n",
    "        self.value = val\n",
    "        self.ref = None\n",
    "\n",
    "\n",
    "class MyLinkedList(object):\n",
    "\n",
    "    def __init__(self):\n",
    "        self.head = None\n",
    "        # self.length = 0 \n",
    "\n",
    "    def printList(self):\n",
    "        nodeRef = self.head\n",
    "        while nodeRef is not None:\n",
    "            print(nodeRef.value)\n",
    "            nodeRef = nodeRef.ref\n",
    "\n",
    "    def get(self, index):\n",
    "        \"\"\"\n",
    "        :type index: int\n",
    "        :rtype: int\n",
    "        \"\"\"\n",
    "        if self.head is None :\n",
    "            return -1\n",
    "        \n",
    "        nodeRef = self.head\n",
    "        counter = 0\n",
    "        while nodeRef is not None and counter != index :\n",
    "            nodeRef = nodeRef.ref\n",
    "            counter += 1\n",
    "\n",
    "        if nodeRef == None:\n",
    "            return -1\n",
    "        return nodeRef.value\n",
    "\n",
    "        \n",
    "\n",
    "    def addAtHead(self, val):\n",
    "        \"\"\"\n",
    "        :type val: int\n",
    "        :rtype: None\n",
    "        \"\"\"\n",
    "        newNode = Node(val=val)\n",
    "        newNode.ref = self.head\n",
    "        self.head = newNode\n",
    "\n",
    "\n",
    "    def addAtTail(self, val):\n",
    "        \"\"\"\n",
    "        :type val: int\n",
    "        :rtype: None\n",
    "        \"\"\"\n",
    "        nodeRef = self.head\n",
    "        while nodeRef is not None  :\n",
    "            if nodeRef.ref == None:\n",
    "                tailNode = nodeRef\n",
    "            nodeRef = nodeRef.ref\n",
    "        newNode = Node(val)\n",
    "        tailNode.ref = newNode\n",
    "\n",
    "    def addAtIndex(self, index, val):\n",
    "        \"\"\"\n",
    "        :type index: int\n",
    "        :type val: int\n",
    "        :rtype: None\n",
    "        \"\"\"\n",
    "\n",
    "        if index == 0:\n",
    "            self.addAtHead(val)\n",
    "        else:\n",
    "            nodeRef = self.head\n",
    "            counter = 0\n",
    "            while nodeRef is not None and counter != index :\n",
    "                previousNode = nodeRef\n",
    "                nodeRef = nodeRef.ref\n",
    "                counter += 1\n",
    "\n",
    "    def deleteAtIndex(self, index):\n",
    "        \"\"\"\n",
    "        :type index: int\n",
    "        :rtype: None\n",
    "        \"\"\"\n",
    "\n",
    "\n",
    "# Your MyLinkedList object will be instantiated and called as such:\n",
    "# obj = MyLinkedList()\n",
    "# param_1 = obj.get(index)\n",
    "# obj.addAtHead(val)\n",
    "# obj.addAtTail(val)\n",
    "# obj.addAtIndex(index,val)\n",
    "# obj.deleteAtIndex(index)\n"
   ]
  },
  {
   "cell_type": "code",
   "execution_count": 40,
   "metadata": {},
   "outputs": [],
   "source": [
    "ll = MyLinkedList()\n",
    "ll.addAtHead(1)\n",
    "ll.addAtHead(2)"
   ]
  },
  {
   "cell_type": "code",
   "execution_count": 41,
   "metadata": {},
   "outputs": [
    {
     "data": {
      "text/plain": [
       "-1"
      ]
     },
     "execution_count": 41,
     "metadata": {},
     "output_type": "execute_result"
    }
   ],
   "source": [
    "ll.get(-1)"
   ]
  },
  {
   "cell_type": "code",
   "execution_count": 44,
   "metadata": {},
   "outputs": [],
   "source": [
    "ll.addAtTail(3)"
   ]
  },
  {
   "cell_type": "code",
   "execution_count": 45,
   "metadata": {},
   "outputs": [
    {
     "name": "stdout",
     "output_type": "stream",
     "text": [
      "2\n",
      "1\n",
      "3\n",
      "3\n"
     ]
    }
   ],
   "source": [
    "ll.printList()"
   ]
  },
  {
   "cell_type": "code",
   "execution_count": null,
   "metadata": {},
   "outputs": [],
   "source": []
  }
 ],
 "metadata": {
  "interpreter": {
   "hash": "2be5faf79681da6f2a61fdfdd5405d65d042280f7fba6178067603e3a2925119"
  },
  "kernelspec": {
   "display_name": "Python 3.10.2 64-bit",
   "language": "python",
   "name": "python3"
  },
  "language_info": {
   "codemirror_mode": {
    "name": "ipython",
    "version": 3
   },
   "file_extension": ".py",
   "mimetype": "text/x-python",
   "name": "python",
   "nbconvert_exporter": "python",
   "pygments_lexer": "ipython3",
   "version": "3.10.2"
  },
  "orig_nbformat": 4
 },
 "nbformat": 4,
 "nbformat_minor": 2
}
