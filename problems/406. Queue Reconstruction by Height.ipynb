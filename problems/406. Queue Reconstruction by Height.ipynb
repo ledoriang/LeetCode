{
 "cells": [
  {
   "cell_type": "markdown",
   "metadata": {},
   "source": [
    "Input"
   ]
  },
  {
   "cell_type": "code",
   "execution_count": 1,
   "metadata": {},
   "outputs": [],
   "source": [
    "people = [[7,0],[4,4],[7,1],[5,0],[6,1],[5,2]]"
   ]
  },
  {
   "cell_type": "markdown",
   "metadata": {},
   "source": [
    "Class definition"
   ]
  },
  {
   "cell_type": "code",
   "execution_count": 10,
   "metadata": {},
   "outputs": [],
   "source": [
    "class Solution:\n",
    "    def reconstructQueue(self, people: list[list[int]]) -> list[list[int]]:\n",
    "        descending = sorted(people, key=lambda x: (-x[0], x[1]))\n",
    "        result = []\n",
    "        for p in descending:\n",
    "            result.insert(p[1], p)\n",
    "        return result\n"
   ]
  },
  {
   "cell_type": "markdown",
   "metadata": {},
   "source": [
    "Output"
   ]
  },
  {
   "cell_type": "code",
   "execution_count": 11,
   "metadata": {},
   "outputs": [
    {
     "name": "stdout",
     "output_type": "stream",
     "text": [
      "0 [7, 0]\n",
      "[[7, 0]]\n",
      "1 [7, 1]\n",
      "[[7, 0], [7, 1]]\n",
      "1 [6, 1]\n",
      "[[7, 0], [6, 1], [7, 1]]\n",
      "0 [5, 0]\n",
      "[[5, 0], [7, 0], [6, 1], [7, 1]]\n",
      "2 [5, 2]\n",
      "[[5, 0], [7, 0], [5, 2], [6, 1], [7, 1]]\n",
      "4 [4, 4]\n",
      "[[5, 0], [7, 0], [5, 2], [6, 1], [4, 4], [7, 1]]\n",
      "[[5, 0], [7, 0], [5, 2], [6, 1], [4, 4], [7, 1]]\n"
     ]
    }
   ],
   "source": [
    "sol = Solution()\n",
    "print(sol.reconstructQueue(people))"
   ]
  },
  {
   "cell_type": "code",
   "execution_count": null,
   "metadata": {},
   "outputs": [],
   "source": []
  }
 ],
 "metadata": {
  "kernelspec": {
   "display_name": "Python 3.10.2 ('venv': venv)",
   "language": "python",
   "name": "python3"
  },
  "language_info": {
   "codemirror_mode": {
    "name": "ipython",
    "version": 3
   },
   "file_extension": ".py",
   "mimetype": "text/x-python",
   "name": "python",
   "nbconvert_exporter": "python",
   "pygments_lexer": "ipython3",
   "version": "3.10.2"
  },
  "orig_nbformat": 4,
  "vscode": {
   "interpreter": {
    "hash": "ffaacc34f039b9b01b2b6187bff0b4721953aa80c9f85ab6dca6196384076cac"
   }
  }
 },
 "nbformat": 4,
 "nbformat_minor": 2
}
