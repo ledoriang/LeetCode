{
 "cells": [
  {
   "cell_type": "code",
   "execution_count": 3,
   "metadata": {},
   "outputs": [],
   "source": [
    "sentences_1  = [\"alice and bob love leetcode\", \"i think so too\", \"this is great thanks very much\"]\n",
    "sentences_2 = [\"tzjqehhr zjnj\"]\n",
    "sentences_3 = [\"v\"]"
   ]
  },
  {
   "cell_type": "code",
   "execution_count": 26,
   "metadata": {},
   "outputs": [],
   "source": [
    "class Solution(object):\n",
    "    def mostWordsFound(self, sentences) -> int:\n",
    "        \"\"\"\n",
    "        :type sentences: List[str]\n",
    "        :rtype: int\n",
    "        \"\"\"\n",
    "        longestSentence = 0\n",
    "        for index,sentence in enumerate(sentences):\n",
    "            splitSentence = sentence.split()\n",
    "            lenSentence = len(splitSentence)\n",
    "            if(lenSentence> longestSentence):\n",
    "                longestSentence =lenSentence\n",
    "        return longestSentence\n",
    "\n",
    "\n",
    "\n",
    "        "
   ]
  },
  {
   "cell_type": "code",
   "execution_count": 29,
   "metadata": {},
   "outputs": [],
   "source": [
    "sentences = sentences_1"
   ]
  },
  {
   "cell_type": "code",
   "execution_count": 30,
   "metadata": {},
   "outputs": [
    {
     "data": {
      "text/plain": [
       "6"
      ]
     },
     "execution_count": 30,
     "metadata": {},
     "output_type": "execute_result"
    }
   ],
   "source": [
    "sol = Solution()\n",
    "sol.mostWordsFound(sentences= sentences)"
   ]
  },
  {
   "cell_type": "markdown",
   "metadata": {},
   "source": [
    "Past Attempt"
   ]
  },
  {
   "cell_type": "code",
   "execution_count": 10,
   "metadata": {},
   "outputs": [],
   "source": [
    "def mostWordsFound(sentences):\n",
    "    longest = 0\n",
    "    for sentence in sentences:\n",
    "        print(sentence)\n",
    "        sum = 0\n",
    "        for char in sentence:\n",
    "            if(char == ' '):\n",
    "                sum += 1\n",
    "        if(sum > 0):\n",
    "            longest = max(longest,sum+1)\n",
    "    return longest\n",
    "        # print(sum(1 if ' ' in sentence else 0))\n",
    "\n",
    " # print(sum(1 if ' ' in sentence for sentence in sentences))\n",
    " # longest = max(longest, sum(1 if \" \" in sentence))\n"
   ]
  },
  {
   "cell_type": "code",
   "execution_count": 11,
   "metadata": {},
   "outputs": [
    {
     "name": "stdout",
     "output_type": "stream",
     "text": [
      "alice and bob love leetcode\n",
      "i think so too\n",
      "this is great thanks very much\n"
     ]
    },
    {
     "data": {
      "text/plain": [
       "6"
      ]
     },
     "execution_count": 11,
     "metadata": {},
     "output_type": "execute_result"
    }
   ],
   "source": [
    "mostWordsFound(sentences )"
   ]
  },
  {
   "cell_type": "code",
   "execution_count": null,
   "metadata": {},
   "outputs": [],
   "source": []
  }
 ],
 "metadata": {
  "interpreter": {
   "hash": "2be5faf79681da6f2a61fdfdd5405d65d042280f7fba6178067603e3a2925119"
  },
  "kernelspec": {
   "display_name": "Python 3.10.2 64-bit",
   "language": "python",
   "name": "python3"
  },
  "language_info": {
   "codemirror_mode": {
    "name": "ipython",
    "version": 3
   },
   "file_extension": ".py",
   "mimetype": "text/x-python",
   "name": "python",
   "nbconvert_exporter": "python",
   "pygments_lexer": "ipython3",
   "version": "3.10.2"
  },
  "orig_nbformat": 4
 },
 "nbformat": 4,
 "nbformat_minor": 2
}
