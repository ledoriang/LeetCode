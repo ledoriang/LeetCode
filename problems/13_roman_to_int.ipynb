{
 "cells": [
  {
   "cell_type": "code",
   "execution_count": 22,
   "metadata": {},
   "outputs": [],
   "source": [
    "candidates = [2,3,5,8]\n",
    "target = 8"
   ]
  },
  {
   "cell_type": "code",
   "execution_count": 25,
   "metadata": {},
   "outputs": [],
   "source": [
    "def combinationSum(candidates, target):\n",
    "    \"\"\"\n",
    "    :type candidates: List[int]\n",
    "    :type target: int\n",
    "    :rtype: List[List[int]]\n",
    "    \"\"\"\n",
    "\n",
    "    # Assue candidates are always sorted, ascending order\n",
    "    # Disregard candidates that are larger than target\n",
    "\n",
    "    # Iterate through the list of candidates\n",
    "    # Modules check if candidate fits perfectly\n",
    "    #\n",
    "    output = []\n",
    "    for x in range(len(candidates)):\n",
    "\n",
    "        if(candidates[x] <= target):\n",
    "            new_seq = []\n",
    "\n",
    "            if(target % candidates[x] == 0 and target // candidates[x] != 1 ):\n",
    "                for i in range(target // candidates[x]): \n",
    "                    new_seq.append(candidates[x])\n",
    "\n",
    "            if(candidates[x] == target):\n",
    "                new_seq.append(candidates[x])\n",
    "\n",
    "            \n",
    "            \n",
    "\n",
    "\n",
    "\n",
    "            if(len(new_seq) != 0):\n",
    "                output.append(new_seq)\n",
    "\n",
    "    return output\n"
   ]
  },
  {
   "cell_type": "code",
   "execution_count": 26,
   "metadata": {},
   "outputs": [
    {
     "data": {
      "text/plain": [
       "[[2, 2, 2, 2], [8]]"
      ]
     },
     "execution_count": 26,
     "metadata": {},
     "output_type": "execute_result"
    }
   ],
   "source": [
    "combinationSum(candidates=candidates,target=target)"
   ]
  },
  {
   "cell_type": "code",
   "execution_count": null,
   "metadata": {},
   "outputs": [],
   "source": []
  },
  {
   "cell_type": "code",
   "execution_count": null,
   "metadata": {},
   "outputs": [],
   "source": []
  }
 ],
 "metadata": {
  "interpreter": {
   "hash": "2be5faf79681da6f2a61fdfdd5405d65d042280f7fba6178067603e3a2925119"
  },
  "kernelspec": {
   "display_name": "Python 3.10.2 64-bit",
   "language": "python",
   "name": "python3"
  },
  "language_info": {
   "codemirror_mode": {
    "name": "ipython",
    "version": 3
   },
   "file_extension": ".py",
   "mimetype": "text/x-python",
   "name": "python",
   "nbconvert_exporter": "python",
   "pygments_lexer": "ipython3",
   "version": "3.10.2"
  },
  "orig_nbformat": 4
 },
 "nbformat": 4,
 "nbformat_minor": 2
}
