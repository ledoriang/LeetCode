{
 "cells": [
  {
   "cell_type": "markdown",
   "metadata": {},
   "source": [
    "Input"
   ]
  },
  {
   "cell_type": "code",
   "execution_count": 20,
   "metadata": {},
   "outputs": [],
   "source": [
    "nums = [1,7,3,6,5,6]"
   ]
  },
  {
   "cell_type": "code",
   "execution_count": 6,
   "metadata": {},
   "outputs": [],
   "source": [
    "nums = [2,1,-1]"
   ]
  },
  {
   "cell_type": "code",
   "execution_count": 15,
   "metadata": {},
   "outputs": [
    {
     "name": "stdout",
     "output_type": "stream",
     "text": [
      "0\n"
     ]
    }
   ],
   "source": [
    "i = 0\n",
    "print(sum(nums[i+1:]))\n"
   ]
  },
  {
   "cell_type": "markdown",
   "metadata": {},
   "source": [
    "Class definition"
   ]
  },
  {
   "cell_type": "code",
   "execution_count": 25,
   "metadata": {},
   "outputs": [],
   "source": [
    "\n",
    "    \n",
    "class Solution:\n",
    "    \n",
    "    def pivotIndex(self, nums: list[int]) -> int:\n",
    "        leftSum, i = 0,1\n",
    "        rightSum = sum(nums[i:])\n",
    "        \n",
    "        print(\"Index 0 check\")\n",
    "        self.printLeftAndRightSum(i-1,leftSum,rightSum)\n",
    "        if(leftSum ==rightSum):\n",
    "            return i\n",
    "\n",
    "        leftPivotFound = False\n",
    "        while i < len(nums) and not leftPivotFound:\n",
    "            leftSum = sum(nums[:i])\n",
    "            rightSum = sum(nums[i+1:])\n",
    "            self.printLeftAndRightSum(i,leftSum,rightSum)\n",
    "          \n",
    "\n",
    "            if(leftSum ==rightSum):\n",
    "                return i\n",
    "\n",
    "            i += 1\n",
    "        return -1\n",
    "            \n",
    "\n",
    "\n",
    "    def printLeftAndRightSum(self,pivot,left,right):\n",
    "        print(f\"With Pivot {pivot}, left sum {left} and right sum {right}\")\n",
    "\n",
    "        "
   ]
  },
  {
   "cell_type": "markdown",
   "metadata": {},
   "source": [
    "Output"
   ]
  },
  {
   "cell_type": "code",
   "execution_count": 26,
   "metadata": {},
   "outputs": [
    {
     "name": "stdout",
     "output_type": "stream",
     "text": [
      "Index 0 check\n",
      "With Pivot 0, left sum 0 and right sum 27\n",
      "With Pivot 1, left sum 1 and right sum 20\n",
      "With Pivot 2, left sum 8 and right sum 17\n",
      "With Pivot 3, left sum 11 and right sum 11\n",
      "With Pivot 4, left sum 17 and right sum 6\n",
      "With Pivot 5, left sum 22 and right sum 0\n"
     ]
    }
   ],
   "source": [
    "sol = Solution()\n",
    "sol.pivotIndex(nums=nums)"
   ]
  },
  {
   "cell_type": "code",
   "execution_count": null,
   "metadata": {},
   "outputs": [],
   "source": []
  }
 ],
 "metadata": {
  "interpreter": {
   "hash": "ffaacc34f039b9b01b2b6187bff0b4721953aa80c9f85ab6dca6196384076cac"
  },
  "kernelspec": {
   "display_name": "Python 3.10.2 ('venv': venv)",
   "language": "python",
   "name": "python3"
  },
  "language_info": {
   "codemirror_mode": {
    "name": "ipython",
    "version": 3
   },
   "file_extension": ".py",
   "mimetype": "text/x-python",
   "name": "python",
   "nbconvert_exporter": "python",
   "pygments_lexer": "ipython3",
   "version": "3.10.2"
  },
  "orig_nbformat": 4
 },
 "nbformat": 4,
 "nbformat_minor": 2
}
